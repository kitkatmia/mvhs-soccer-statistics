{
 "cells": [
  {
   "cell_type": "code",
   "execution_count": 29,
   "metadata": {},
   "outputs": [
    {
     "data": {
      "text/html": [
       "<div>\n",
       "<style scoped>\n",
       "    .dataframe tbody tr th:only-of-type {\n",
       "        vertical-align: middle;\n",
       "    }\n",
       "\n",
       "    .dataframe tbody tr th {\n",
       "        vertical-align: top;\n",
       "    }\n",
       "\n",
       "    .dataframe thead th {\n",
       "        text-align: right;\n",
       "    }\n",
       "</style>\n",
       "<table border=\"1\" class=\"dataframe\">\n",
       "  <thead>\n",
       "    <tr style=\"text-align: right;\">\n",
       "      <th></th>\n",
       "      <th>Game</th>\n",
       "      <th>Assister</th>\n",
       "      <th>Goal-Scorer</th>\n",
       "      <th>Type of Goal</th>\n",
       "      <th>Location (0 for outside the box, 1 for inside the box)</th>\n",
       "    </tr>\n",
       "  </thead>\n",
       "  <tbody>\n",
       "    <tr>\n",
       "      <th>0</th>\n",
       "      <td>Hollister</td>\n",
       "      <td>Opps</td>\n",
       "      <td>Opps</td>\n",
       "      <td>Cross</td>\n",
       "      <td>0</td>\n",
       "    </tr>\n",
       "    <tr>\n",
       "      <th>1</th>\n",
       "      <td>Hollister</td>\n",
       "      <td>Meera</td>\n",
       "      <td>Karena</td>\n",
       "      <td>Through/Over</td>\n",
       "      <td>1</td>\n",
       "    </tr>\n",
       "    <tr>\n",
       "      <th>2</th>\n",
       "      <td>Hollister</td>\n",
       "      <td>Talya</td>\n",
       "      <td>Talya</td>\n",
       "      <td>Individual</td>\n",
       "      <td>1</td>\n",
       "    </tr>\n",
       "    <tr>\n",
       "      <th>3</th>\n",
       "      <td>Hollister</td>\n",
       "      <td>Opps</td>\n",
       "      <td>Opps</td>\n",
       "      <td>Set Piece</td>\n",
       "      <td>1</td>\n",
       "    </tr>\n",
       "    <tr>\n",
       "      <th>4</th>\n",
       "      <td>Homestead</td>\n",
       "      <td>Freyja</td>\n",
       "      <td>Natalie G</td>\n",
       "      <td>Basic Pass</td>\n",
       "      <td>1</td>\n",
       "    </tr>\n",
       "  </tbody>\n",
       "</table>\n",
       "</div>"
      ],
      "text/plain": [
       "        Game Assister Goal-Scorer  Type of Goal  \\\n",
       "0  Hollister     Opps        Opps         Cross   \n",
       "1  Hollister    Meera      Karena  Through/Over   \n",
       "2  Hollister    Talya       Talya    Individual   \n",
       "3  Hollister     Opps        Opps     Set Piece   \n",
       "4  Homestead   Freyja   Natalie G    Basic Pass   \n",
       "\n",
       "   Location (0 for outside the box, 1 for inside the box)  \n",
       "0                                                  0       \n",
       "1                                                  1       \n",
       "2                                                  1       \n",
       "3                                                  1       \n",
       "4                                                  1       "
      ]
     },
     "execution_count": 29,
     "metadata": {},
     "output_type": "execute_result"
    }
   ],
   "source": [
    "import pandas as pd\n",
    "\n",
    "df = pd.read_csv(\"../data/8_games_goal_info.csv\")\n",
    "\n",
    "df.head()"
   ]
  },
  {
   "cell_type": "code",
   "execution_count": 30,
   "metadata": {},
   "outputs": [
    {
     "data": {
      "text/plain": [
       "Opps          5\n",
       "Karena        4\n",
       "Laila         3\n",
       "Hailey        3\n",
       "Juno          2\n",
       "Emily         1\n",
       "Freyja        1\n",
       "Talya         1\n",
       "Meera         1\n",
       "Scarlett T    1\n",
       "Name: Assister, dtype: int64"
      ]
     },
     "execution_count": 30,
     "metadata": {},
     "output_type": "execute_result"
    }
   ],
   "source": [
    "df[\"Assister\"].value_counts()"
   ]
  },
  {
   "cell_type": "code",
   "execution_count": 31,
   "metadata": {},
   "outputs": [
    {
     "data": {
      "text/plain": [
       "Opps         5\n",
       "Juno         5\n",
       "Karena       5\n",
       "Laila        3\n",
       "Hailey       2\n",
       "Natalie G    1\n",
       "Talya        1\n",
       "Name: Goal-Scorer, dtype: int64"
      ]
     },
     "execution_count": 31,
     "metadata": {},
     "output_type": "execute_result"
    }
   ],
   "source": [
    "df[\"Goal-Scorer\"].value_counts()"
   ]
  },
  {
   "cell_type": "markdown",
   "metadata": {},
   "source": [
    "#### Top assist contributors (# of assists in paranthesis):\n",
    "\n",
    "- Karena (4)\n",
    "- Laila (3)\n",
    "- Hailey (3)\n",
    "  <br/>\n",
    "\n",
    "#### Top Goal Scorers\n",
    "\n",
    "- Juno (5)\n",
    "- Karena (5)\n",
    "- Laila (3)\n"
   ]
  },
  {
   "cell_type": "code",
   "execution_count": 32,
   "metadata": {},
   "outputs": [
    {
     "data": {
      "text/plain": [
       "Through/Over    5\n",
       "Individual      4\n",
       "Cross           4\n",
       "Basic Pass      2\n",
       "Set Piece       2\n",
       "Name: Type of Goal, dtype: int64"
      ]
     },
     "execution_count": 32,
     "metadata": {},
     "output_type": "execute_result"
    }
   ],
   "source": [
    "# get which types of goals we score the most\n",
    "df.loc[df[\"Goal-Scorer\"] != \"Opps\"][\"Type of Goal\"].value_counts()"
   ]
  },
  {
   "cell_type": "code",
   "execution_count": 33,
   "metadata": {},
   "outputs": [
    {
     "data": {
      "text/plain": [
       "Basic Pass      1\n",
       "Set Piece       1\n",
       "Individual      1\n",
       "Through/Over    1\n",
       "Cross           1\n",
       "Name: Type of Goal, dtype: int64"
      ]
     },
     "execution_count": 33,
     "metadata": {},
     "output_type": "execute_result"
    }
   ],
   "source": [
    "# get which types of goals opponents score the most\n",
    "df.loc[df[\"Goal-Scorer\"] == \"Opps\"][\"Type of Goal\"].value_counts()"
   ]
  },
  {
   "cell_type": "markdown",
   "metadata": {},
   "source": [
    "#### We score the best through... (# of goals in paranthesis)\n",
    "\n",
    "- Through / Over the top balls (5)\n",
    "- Individual Runs (4)\n",
    "- Crosses (4)\n",
    "  <br/>\n",
    "\n",
    "#### There's no clear pattern on how we get scored on... yet\n"
   ]
  },
  {
   "cell_type": "code",
   "execution_count": 34,
   "metadata": {},
   "outputs": [],
   "source": [
    "df = df.rename(\n",
    "    columns={\n",
    "        \"Location (0 for outside the box, 1 for inside the box)\": \"Location\"}\n",
    ")"
   ]
  },
  {
   "cell_type": "code",
   "execution_count": 35,
   "metadata": {},
   "outputs": [
    {
     "data": {
      "text/plain": [
       "0    3\n",
       "1    2\n",
       "Name: Location, dtype: int64"
      ]
     },
     "execution_count": 35,
     "metadata": {},
     "output_type": "execute_result"
    }
   ],
   "source": [
    "df.loc[df[\"Goal-Scorer\"] == \"Opps\"][\"Location\"].value_counts()"
   ]
  },
  {
   "cell_type": "code",
   "execution_count": 36,
   "metadata": {},
   "outputs": [
    {
     "data": {
      "text/plain": [
       "1    17\n",
       "Name: Location, dtype: int64"
      ]
     },
     "execution_count": 36,
     "metadata": {},
     "output_type": "execute_result"
    }
   ],
   "source": [
    "df.loc[df[\"Goal-Scorer\"] != \"Opps\"][\"Location\"].value_counts()"
   ]
  },
  {
   "cell_type": "markdown",
   "metadata": {},
   "source": [
    "#### We score best...\n",
    "\n",
    "- Within the box\n",
    "  <br/>\n",
    "\n",
    "#### We get scored on...\n",
    "\n",
    "- In almost equal parts within and outside of the box... but more so outside the box\n",
    "  - Meaning we leave gaps for them to shoot; it's not that they are so talented as to out manuevar us\n"
   ]
  },
  {
   "cell_type": "code",
   "execution_count": null,
   "metadata": {},
   "outputs": [],
   "source": []
  }
 ],
 "metadata": {
  "kernelspec": {
   "display_name": "Python 3",
   "language": "python",
   "name": "python3"
  },
  "language_info": {
   "codemirror_mode": {
    "name": "ipython",
    "version": 3
   },
   "file_extension": ".py",
   "mimetype": "text/x-python",
   "name": "python",
   "nbconvert_exporter": "python",
   "pygments_lexer": "ipython3",
   "version": "3.8.17"
  }
 },
 "nbformat": 4,
 "nbformat_minor": 2
}
